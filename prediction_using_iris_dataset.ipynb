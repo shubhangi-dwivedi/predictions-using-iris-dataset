{
  "nbformat": 4,
  "nbformat_minor": 0,
  "metadata": {
    "colab": {
      "name": "prediction_using_iris_dataset.ipynb",
      "provenance": [],
      "collapsed_sections": [],
      "authorship_tag": "ABX9TyOc7paaQTkgW+zT8U2DJg8E",
      "include_colab_link": true
    },
    "kernelspec": {
      "name": "python3",
      "display_name": "Python 3"
    }
  },
  "cells": [
    {
      "cell_type": "markdown",
      "metadata": {
        "id": "view-in-github",
        "colab_type": "text"
      },
      "source": [
        "<a href=\"https://colab.research.google.com/github/shubhangi-dwivedi/predictions-using-iris-dataset/blob/main/prediction_using_iris_dataset.ipynb\" target=\"_parent\"><img src=\"https://colab.research.google.com/assets/colab-badge.svg\" alt=\"Open In Colab\"/></a>"
      ]
    },
    {
      "cell_type": "markdown",
      "metadata": {
        "id": "7hzTWFdCVv4e"
      },
      "source": [
        "Project : Classifying the flower in which category it belong \r\n",
        "using Iris dataset using K-nearest neighbors"
      ]
    },
    {
      "cell_type": "markdown",
      "metadata": {
        "id": "b7b096NfRLwX"
      },
      "source": [
        "*****-------Using Supervised learning---------*****"
      ]
    },
    {
      "cell_type": "code",
      "metadata": {
        "id": "ZylIthdDbzZy"
      },
      "source": [
        "import pandas as pd \r\n",
        "import numpy as np "
      ],
      "execution_count": 6,
      "outputs": []
    },
    {
      "cell_type": "code",
      "metadata": {
        "id": "kpDcm_fRb88t"
      },
      "source": [
        "#sklearn is the framework, datasets is the package, load_iris is the function we are using\r\n",
        "from sklearn.datasets import load_iris\r\n",
        "iris_dataset = load_iris()"
      ],
      "execution_count": 7,
      "outputs": []
    },
    {
      "cell_type": "code",
      "metadata": {
        "colab": {
          "base_uri": "https://localhost:8080/"
        },
        "id": "cTEfAUdTcNMx",
        "outputId": "fa516fc2-35e4-4232-c703-d453ff0d9f3b"
      },
      "source": [
        "#The iris object that is returned by load_iris is a Bunch object, \r\n",
        "#which is very similar to a dictionary. It contains keys and values :\r\n",
        "print(\"Keys of iris_dataset: \\n{}\".format(iris_dataset.keys()))"
      ],
      "execution_count": 8,
      "outputs": [
        {
          "output_type": "stream",
          "text": [
            "Keys of iris_dataset: \n",
            "dict_keys(['data', 'target', 'target_names', 'DESCR', 'feature_names', 'filename'])\n"
          ],
          "name": "stdout"
        }
      ]
    },
    {
      "cell_type": "code",
      "metadata": {
        "colab": {
          "base_uri": "https://localhost:8080/"
        },
        "id": "pj8VR1r7cnGd",
        "outputId": "f12ea5ba-7cb5-4930-a447-d92138e8f7b0"
      },
      "source": [
        "#The value of the key DESCR is a short description of the dataset. \r\n",
        "#Lets look at what it contains :\r\n",
        "val = iris_dataset['DESCR']\r\n",
        "start_val = val[:200]\r\n",
        "print(start_val + \"\\n...\")"
      ],
      "execution_count": 9,
      "outputs": [
        {
          "output_type": "stream",
          "text": [
            ".. _iris_dataset:\n",
            "\n",
            "Iris plants dataset\n",
            "--------------------\n",
            "\n",
            "**Data Set Characteristics:**\n",
            "\n",
            "    :Number of Instances: 150 (50 in each of three classes)\n",
            "    :Number of Attributes: 4 numeric, predictive\n",
            "...\n"
          ],
          "name": "stdout"
        }
      ]
    },
    {
      "cell_type": "code",
      "metadata": {
        "colab": {
          "base_uri": "https://localhost:8080/"
        },
        "id": "ikLa4MqKfAGG",
        "outputId": "74057632-70c3-4373-ff84-8a2c5969a941"
      },
      "source": [
        "#The value of the key target_names is an array of strings, \r\n",
        "#containing the species of flowers that we want to predict \r\n",
        "#i.e. 'setosa' 'versicolor' and 'virginica'\r\n",
        "print(\"Target names: {}\".format(iris_dataset['target_names']))"
      ],
      "execution_count": 10,
      "outputs": [
        {
          "output_type": "stream",
          "text": [
            "Target names: ['setosa' 'versicolor' 'virginica']\n"
          ],
          "name": "stdout"
        }
      ]
    },
    {
      "cell_type": "code",
      "metadata": {
        "colab": {
          "base_uri": "https://localhost:8080/"
        },
        "id": "mzt_o9T-fpKI",
        "outputId": "55a8198a-9008-412c-a244-8026bbd3584d"
      },
      "source": [
        "#feature_names key gives the description of each feature it includes\r\n",
        "print(\"Feature names: \\n{}\".format(iris_dataset['feature_names']))"
      ],
      "execution_count": 11,
      "outputs": [
        {
          "output_type": "stream",
          "text": [
            "Feature names: \n",
            "['sepal length (cm)', 'sepal width (cm)', 'petal length (cm)', 'petal width (cm)']\n"
          ],
          "name": "stdout"
        }
      ]
    },
    {
      "cell_type": "code",
      "metadata": {
        "colab": {
          "base_uri": "https://localhost:8080/"
        },
        "id": "BRjVybMjgYaS",
        "outputId": "2e0af92e-a18e-4fa9-b2fa-1dd46bc64ba2"
      },
      "source": [
        "#The type in which we recieve data\r\n",
        "print(\"Type of data: {}\".format(type(iris_dataset['data'])))"
      ],
      "execution_count": 12,
      "outputs": [
        {
          "output_type": "stream",
          "text": [
            "Type of data: <class 'numpy.ndarray'>\n"
          ],
          "name": "stdout"
        }
      ]
    },
    {
      "cell_type": "code",
      "metadata": {
        "colab": {
          "base_uri": "https://localhost:8080/"
        },
        "id": "kyuXkAO7hQ9-",
        "outputId": "85a8f22a-239c-497c-bb04-82175e019c13"
      },
      "source": [
        "#The rows in this data array correspond to the 150 flowers, \r\n",
        "#while the columns represent the 4 measurements that were taken for each flower:\r\n",
        "print(\"Shape of data: {}\".format(iris_dataset['data'].shape))"
      ],
      "execution_count": 13,
      "outputs": [
        {
          "output_type": "stream",
          "text": [
            "Shape of data: (150, 4)\n"
          ],
          "name": "stdout"
        }
      ]
    },
    {
      "cell_type": "markdown",
      "metadata": {
        "id": "YC5qJ3DqjsEs"
      },
      "source": [
        "1.Individual items are called samples or data points or instances and their properties are called features or attritbutes. \r\n",
        "\r\n",
        "2.Shape is the no. of samples multiplied by the no. of features.\r\n",
        "\r\n",
        "#here we have 150 data points & 4 features."
      ]
    },
    {
      "cell_type": "code",
      "metadata": {
        "colab": {
          "base_uri": "https://localhost:8080/"
        },
        "id": "rRyuDieeiMqL",
        "outputId": "bd51de86-8ae3-4d57-b3d2-6adb4fb3f4cb"
      },
      "source": [
        "print(\"First five rows of data: \\n{}\".format(iris_dataset['data'][:5]))\r\n",
        "# we observe that the all the flowers have the same petal width \r\n",
        "#and the first flower has the max sepal width"
      ],
      "execution_count": 14,
      "outputs": [
        {
          "output_type": "stream",
          "text": [
            "First five rows of data: \n",
            "[[5.1 3.5 1.4 0.2]\n",
            " [4.9 3.  1.4 0.2]\n",
            " [4.7 3.2 1.3 0.2]\n",
            " [4.6 3.1 1.5 0.2]\n",
            " [5.  3.6 1.4 0.2]]\n"
          ],
          "name": "stdout"
        }
      ]
    },
    {
      "cell_type": "code",
      "metadata": {
        "colab": {
          "base_uri": "https://localhost:8080/"
        },
        "id": "FNeTNg23zZEW",
        "outputId": "2c92e04b-260f-4cab-de08-e515bcc938cf"
      },
      "source": [
        "print(\"Type of target: {}\".format(type(iris_dataset['target']))) \r\n",
        "#tell us the type of target key"
      ],
      "execution_count": 15,
      "outputs": [
        {
          "output_type": "stream",
          "text": [
            "Type of target: <class 'numpy.ndarray'>\n"
          ],
          "name": "stdout"
        }
      ]
    },
    {
      "cell_type": "code",
      "metadata": {
        "colab": {
          "base_uri": "https://localhost:8080/"
        },
        "id": "4hzXBT2Sz-o1",
        "outputId": "028a88d2-ab45-45ff-8c63-caa3e42ffc8a"
      },
      "source": [
        "#target is a 1D array, and on seeing the shape \r\n",
        "#we can see that it contains one entry per flower:\r\n",
        "print(\"Shape of target: {}\".format(iris_dataset['target'].shape))"
      ],
      "execution_count": 16,
      "outputs": [
        {
          "output_type": "stream",
          "text": [
            "Shape of target: (150,)\n"
          ],
          "name": "stdout"
        }
      ]
    },
    {
      "cell_type": "code",
      "metadata": {
        "colab": {
          "base_uri": "https://localhost:8080/"
        },
        "id": "7qKGoWZ_1H0U",
        "outputId": "05858894-aa15-42e5-fd88-c96ad2d9b898"
      },
      "source": [
        "print(\"Target: \\n{}\".format(iris_dataset['target']))\r\n",
        "#the species are encoded as digits between 0-2\r\n",
        "#0-sentose, 1-versicolor, 2-virginica"
      ],
      "execution_count": 17,
      "outputs": [
        {
          "output_type": "stream",
          "text": [
            "Target: \n",
            "[0 0 0 0 0 0 0 0 0 0 0 0 0 0 0 0 0 0 0 0 0 0 0 0 0 0 0 0 0 0 0 0 0 0 0 0 0\n",
            " 0 0 0 0 0 0 0 0 0 0 0 0 0 1 1 1 1 1 1 1 1 1 1 1 1 1 1 1 1 1 1 1 1 1 1 1 1\n",
            " 1 1 1 1 1 1 1 1 1 1 1 1 1 1 1 1 1 1 1 1 1 1 1 1 1 1 2 2 2 2 2 2 2 2 2 2 2\n",
            " 2 2 2 2 2 2 2 2 2 2 2 2 2 2 2 2 2 2 2 2 2 2 2 2 2 2 2 2 2 2 2 2 2 2 2 2 2\n",
            " 2 2]\n"
          ],
          "name": "stdout"
        }
      ]
    },
    {
      "cell_type": "markdown",
      "metadata": {
        "id": "RMCJDn-GY2zv"
      },
      "source": [
        "#Measuring Success: Training and testing Data:"
      ]
    },
    {
      "cell_type": "code",
      "metadata": {
        "id": "rAk0iWd84XXY"
      },
      "source": [
        "#most used ML framework\r\n",
        "import sklearn #scikit-learn"
      ],
      "execution_count": 18,
      "outputs": []
    },
    {
      "cell_type": "markdown",
      "metadata": {
        "id": "Moh06S6V4hyi"
      },
      "source": [
        "\r\n",
        "1. In scikit-learn, data is usually denoted with a capital X, while labels are denoted by a lowercase y (inspired by standard formulation (x)=y in mathematics, where x is the I/P and y is the O/P).\r\n",
        "2. we use a capital X because the data is a 2D-array(a matrix) and a lowercase y because the target is a 1D-array(a vector).\r\n"
      ]
    },
    {
      "cell_type": "code",
      "metadata": {
        "id": "3fHAO8Gr4f1d"
      },
      "source": [
        "#train_test_split is a function to split data into 75% training data and \r\n",
        "#25% testing data by default\r\n",
        "from sklearn.model_selection import train_test_split\r\n",
        "\r\n",
        "#random_state pick the training data randomly from training the model \r\n",
        "#as we have our data arranged into an orderly fashion\r\n",
        "#it will be same random order for everyone\r\n",
        "X_train, X_test, y_train, y_test = train_test_split(\r\n",
        "    iris_dataset['data'], iris_dataset['target'], random_state = 0)\r\n",
        "# train_test_split returns a tuple"
      ],
      "execution_count": 19,
      "outputs": []
    },
    {
      "cell_type": "code",
      "metadata": {
        "colab": {
          "base_uri": "https://localhost:8080/"
        },
        "id": "08wy3VJ_P0Yh",
        "outputId": "6582c227-c6c7-4b73-8557-e0588640e8ff"
      },
      "source": [
        "print(\"X_train shape: {}\".format(X_train.shape))\r\n",
        "print(\"y_train shape: {}\".format(y_train.shape))\r\n",
        "print(\"X_test shape: {}\".format(X_test.shape))\r\n",
        "print(\"y_test shape: {}\".format(y_test.shape))"
      ],
      "execution_count": 20,
      "outputs": [
        {
          "output_type": "stream",
          "text": [
            "X_train shape: (112, 4)\n",
            "y_train shape: (112,)\n",
            "X_test shape: (38, 4)\n",
            "y_test shape: (38,)\n"
          ],
          "name": "stdout"
        }
      ]
    },
    {
      "cell_type": "markdown",
      "metadata": {
        "id": "pd3KgF4-uqZC"
      },
      "source": [
        "for X_train and y_train 112 data points and 4 columns for the 4 attributes \r\n",
        "and X_test and y_test 38 data points and 4 columns"
      ]
    },
    {
      "cell_type": "markdown",
      "metadata": {
        "id": "0w5fSHD4kFF7"
      },
      "source": [
        "*Training Data*"
      ]
    },
    {
      "cell_type": "code",
      "metadata": {
        "id": "01-VHRskuuXQ"
      },
      "source": [
        "#k-nearnest neighbors ML model\r\n",
        "from sklearn.neighbors import KNeighborsClassifier #neighbors is the module and KNeighborsClassifier is a class\r\n",
        "knn = KNeighborsClassifier(n_neighbors=1) \r\n",
        "#The most imp. parameter of KNeighborsClassifier is the no. of neighbors, which we have set to 1. \r\n",
        "#knn is the name of the object/bot we have made"
      ],
      "execution_count": 21,
      "outputs": []
    },
    {
      "cell_type": "code",
      "metadata": {
        "colab": {
          "base_uri": "https://localhost:8080/"
        },
        "id": "gQ6eO8bqX7FM",
        "outputId": "f14c44a1-8fe5-4768-8b48-1d16571c6b96"
      },
      "source": [
        "#(training the model)\r\n",
        "#to build the model on the training set we call the fit method of knn object which\r\n",
        "#takes as arguments the numpy array X_train and the y_train of the training data \r\n",
        "#and the corresponding training labels resp. \r\n",
        "#and fit the entire KNeighbor classifier algorithm to the X_train * y_tarin values\r\n",
        "\r\n",
        "knn.fit(X_train, y_train) #this line is training the model in trained data"
      ],
      "execution_count": 23,
      "outputs": [
        {
          "output_type": "execute_result",
          "data": {
            "text/plain": [
              "KNeighborsClassifier(algorithm='auto', leaf_size=30, metric='minkowski',\n",
              "                     metric_params=None, n_jobs=None, n_neighbors=1, p=2,\n",
              "                     weights='uniform')"
            ]
          },
          "metadata": {
            "tags": []
          },
          "execution_count": 23
        }
      ]
    },
    {
      "cell_type": "code",
      "metadata": {
        "colab": {
          "base_uri": "https://localhost:8080/"
        },
        "id": "AebJcCJlaKdb",
        "outputId": "9a83ad7d-19a6-4eff-e437-cebe19e46d8d"
      },
      "source": [
        ""
      ],
      "execution_count": 24,
      "outputs": [
        {
          "output_type": "execute_result",
          "data": {
            "text/plain": [
              "KNeighborsClassifier(algorithm='auto', leaf_size=30, metric='minkowski',\n",
              "                     metric_params=None, n_jobs=None, n_neighbors=1, p=2,\n",
              "                     weights='uniform')"
            ]
          },
          "metadata": {
            "tags": []
          },
          "execution_count": 24
        }
      ]
    },
    {
      "cell_type": "markdown",
      "metadata": {
        "id": "hNDpMA8ZkIIj"
      },
      "source": [
        "*Making Predictions*"
      ]
    },
    {
      "cell_type": "markdown",
      "metadata": {
        "id": "bYP2lHp2oMYd"
      },
      "source": [
        "We have put the measurements of a random flower \r\n",
        "i.e. we have found and iris in wild with a saple length of 5cm,\r\n",
        "a sepal width of 2.9cm, a petal legthn of 1cm,\r\n",
        "and a petal width of 0.2cm. What species of iris would this be? \r\n",
        "We have put these measurements into a 2D numpy array \r\n",
        "as sklearn(scikit-learn) expects 2D  arrays as data (to check whether the model have learned something \r\n",
        "by testing it by putting the measurements of this random flower to see wheter it'll be able to predict something or not) , again by calculating the shape  - i.e., the no. of samples(1) multiplied by the no. of features(4):\r\n"
      ]
    },
    {
      "cell_type": "code",
      "metadata": {
        "colab": {
          "base_uri": "https://localhost:8080/"
        },
        "id": "oerd_ecUkLZp",
        "outputId": "2f8291c2-fcb4-4379-d7ca-674eedf252c1"
      },
      "source": [
        "X_new = np.array([[5, 2.9, 1, 0.2]])\r\n",
        "\r\n",
        "print(\"X_new.shape: {}\".format(X_new.shape))\r\n"
      ],
      "execution_count": 25,
      "outputs": [
        {
          "output_type": "stream",
          "text": [
            "X_new.shape: (1, 4)\n"
          ],
          "name": "stdout"
        }
      ]
    },
    {
      "cell_type": "code",
      "metadata": {
        "colab": {
          "base_uri": "https://localhost:8080/"
        },
        "id": "oAlPJDZOplgu",
        "outputId": "4c56671d-8c7e-47d0-e20c-70366429f2b7"
      },
      "source": [
        "prediction = knn.predict(X_new) #calls the predict method to make a prediction\r\n",
        "\r\n",
        "print(\"Prediction: {}\".format(prediction))\r\n",
        "print(\"Predicted Target Name: {}\".format(\r\n",
        "    iris_dataset['target_names'][prediction]\r\n",
        "      ))"
      ],
      "execution_count": 26,
      "outputs": [
        {
          "output_type": "stream",
          "text": [
            "Prediction: [0]\n",
            "Predicted Target Name: ['setosa']\n"
          ],
          "name": "stdout"
        }
      ]
    },
    {
      "cell_type": "markdown",
      "metadata": {
        "id": "K5hf8z4Prq1p"
      },
      "source": [
        "*Evaluating the Model*"
      ]
    },
    {
      "cell_type": "code",
      "metadata": {
        "colab": {
          "base_uri": "https://localhost:8080/"
        },
        "id": "M-JdKie9r_7h",
        "outputId": "c10aca56-6d13-4778-c9c2-614efd1fcc8b"
      },
      "source": [
        "#Now predicting for the test dataset (X_test)\r\n",
        "y_pred = knn.predict(X_test) #we had 38 data points in X_test dataset\r\n",
        "#so we are predicting for the whole data set i.e. 38 data pts.\r\n",
        "print(\"Test set predictions: \\n {}\".format(y_pred))"
      ],
      "execution_count": 31,
      "outputs": [
        {
          "output_type": "stream",
          "text": [
            "Test set predictions: \n",
            " [2 1 0 2 0 2 0 1 1 1 2 1 1 1 1 0 1 1 0 0 2 1 0 0 2 0 0 1 1 0 2 1 0 2 2 1 0\n",
            " 2]\n"
          ],
          "name": "stdout"
        }
      ]
    },
    {
      "cell_type": "code",
      "metadata": {
        "colab": {
          "base_uri": "https://localhost:8080/"
        },
        "id": "1KGiXGZptQFg",
        "outputId": "53b786ac-28af-4ca1-c40f-86b3576443d8"
      },
      "source": [
        "#checking if the predictions made by the model were actually correct or not\r\n",
        "print(\"Test Set Score: {}\".format(np.mean(y_pred == y_test))) #for all 38 values\r\n",
        "#y_test is the actual values of the test dataset(flowers)\r\n",
        "#and y_pred is the predicted values given by model to us."
      ],
      "execution_count": 33,
      "outputs": [
        {
          "output_type": "stream",
          "text": [
            "Test Set Score: 0.9736842105263158\n"
          ],
          "name": "stdout"
        }
      ]
    }
  ]
}